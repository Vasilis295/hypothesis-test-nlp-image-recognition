{
 "cells": [
  {
   "cell_type": "code",
   "execution_count": 1,
   "metadata": {},
   "outputs": [],
   "source": [
    "from tensorflow import keras \n",
    "import numpy as np\n",
    "import pandas as pd\n",
    "import tensorflow as tf\n",
    "from keras import callbacks\n",
    "import matplotlib.pyplot as plt\n",
    "from matplotlib import pyplot\n",
    "from keras.models import Sequential\n",
    "from keras.layers.core import Dense, Dropout, Activation\n",
    "from keras.utils import np_utils"
   ]
  },
  {
   "cell_type": "code",
   "execution_count": 2,
   "metadata": {},
   "outputs": [],
   "source": [
    "from tensorflow.keras.datasets import mnist"
   ]
  },
  {
   "cell_type": "code",
   "execution_count": 3,
   "metadata": {},
   "outputs": [],
   "source": [
    "(x_train, y_train), (x_test, y_test) = mnist.load_data()"
   ]
  },
  {
   "cell_type": "code",
   "execution_count": 4,
   "metadata": {},
   "outputs": [
    {
     "data": {
      "text/plain": [
       "(60000, 28, 28)"
      ]
     },
     "execution_count": 4,
     "metadata": {},
     "output_type": "execute_result"
    }
   ],
   "source": [
    "x_train.shape"
   ]
  },
  {
   "cell_type": "code",
   "execution_count": 5,
   "metadata": {},
   "outputs": [
    {
     "data": {
      "text/plain": [
       "(28, 28)"
      ]
     },
     "execution_count": 5,
     "metadata": {},
     "output_type": "execute_result"
    }
   ],
   "source": [
    "x_train[0].shape"
   ]
  },
  {
   "cell_type": "code",
   "execution_count": 6,
   "metadata": {},
   "outputs": [
    {
     "data": {
      "text/plain": [
       "<matplotlib.image.AxesImage at 0x12f7b768910>"
      ]
     },
     "execution_count": 6,
     "metadata": {},
     "output_type": "execute_result"
    },
    {
     "data": {
      "image/png": "[encoded data removed]",
      "text/plain": [
       "<Figure size 432x288 with 1 Axes>"
      ]
     },
     "metadata": {
      "needs_background": "light"
     },
     "output_type": "display_data"
    }
   ],
   "source": [
    "plt.imshow(x_train[123])"
   ]
  },
  {
   "cell_type": "code",
   "execution_count": 7,
   "metadata": {},
   "outputs": [
    {
     "data": {
      "image/png": "[encoded data removed]",
      "text/plain": [
       "<Figure size 432x288 with 4 Axes>"
      ]
     },
     "metadata": {
      "needs_background": "light"
     },
     "output_type": "display_data"
    }
   ],
   "source": [
    "for i in range(4):\n",
    "    plt.subplot(2,2,i+1)\n",
    "    plt.imshow(x_train[i], cmap='gray', interpolation='none')\n",
    "    plt.title(\"Class {}\".format(y_train[i]))"
   ]
  },
  {
   "cell_type": "code",
   "execution_count": 8,
   "metadata": {},
   "outputs": [
    {
     "data": {
      "text/plain": [
       "(60000,)"
      ]
     },
     "execution_count": 8,
     "metadata": {},
     "output_type": "execute_result"
    }
   ],
   "source": [
    "y_train.shape"
   ]
  },
  {
   "cell_type": "code",
   "execution_count": 9,
   "metadata": {},
   "outputs": [
    {
     "data": {
      "text/plain": [
       "5"
      ]
     },
     "execution_count": 9,
     "metadata": {},
     "output_type": "execute_result"
    }
   ],
   "source": [
    "y_train[0]"
   ]
  },
  {
   "cell_type": "code",
   "execution_count": 10,
   "metadata": {},
   "outputs": [],
   "source": [
    "from tensorflow.keras.utils import to_categorical"
   ]
  },
  {
   "cell_type": "code",
   "execution_count": 11,
   "metadata": {},
   "outputs": [],
   "source": [
    "y_train=to_categorical(y_train,10)"
   ]
  },
  {
   "cell_type": "code",
   "execution_count": 12,
   "metadata": {},
   "outputs": [],
   "source": [
    "y_test=to_categorical(y_test,10)"
   ]
  },
  {
   "cell_type": "code",
   "execution_count": 13,
   "metadata": {},
   "outputs": [
    {
     "data": {
      "text/plain": [
       "array([[0., 0., 0., ..., 0., 0., 0.],\n",
       "       [1., 0., 0., ..., 0., 0., 0.],\n",
       "       [0., 0., 0., ..., 0., 0., 0.],\n",
       "       ...,\n",
       "       [0., 0., 0., ..., 0., 0., 0.],\n",
       "       [0., 0., 0., ..., 0., 0., 0.],\n",
       "       [0., 0., 0., ..., 0., 1., 0.]], dtype=float32)"
      ]
     },
     "execution_count": 13,
     "metadata": {},
     "output_type": "execute_result"
    }
   ],
   "source": [
    "y_train"
   ]
  },
  {
   "cell_type": "code",
   "execution_count": 14,
   "metadata": {},
   "outputs": [],
   "source": [
    "x_train=x_train/255"
   ]
  },
  {
   "cell_type": "code",
   "execution_count": 15,
   "metadata": {},
   "outputs": [],
   "source": [
    "x_test=x_test/255"
   ]
  },
  {
   "cell_type": "code",
   "execution_count": 16,
   "metadata": {},
   "outputs": [],
   "source": [
    "x_train=x_train.reshape(60000,28,28,1)\n",
    "x_test=x_test.reshape(10000,28,28,1)"
   ]
  },
  {
   "cell_type": "code",
   "execution_count": 17,
   "metadata": {},
   "outputs": [],
   "source": [
    "from keras.layers.convolutional import Conv2D"
   ]
  },
  {
   "cell_type": "code",
   "execution_count": 18,
   "metadata": {},
   "outputs": [],
   "source": [
    "from tensorflow.keras.layers import MaxPool2D,Flatten"
   ]
  },
  {
   "cell_type": "code",
   "execution_count": 19,
   "metadata": {},
   "outputs": [],
   "source": [
    "model = Sequential()\n",
    "model.add(Conv2D(filters=32,kernel_size=(4,4),input_shape=(28,28,1),activation='relu'))\n",
    "model.add(MaxPool2D(pool_size=(2,2)))\n",
    "model.add(Flatten())\n",
    "model.add(Dense(32,activation='relu'))\n",
    "model.add(Dense(10,activation='softmax'))\n",
    "model.compile(loss='categorical_crossentropy',optimizer='adam',metrics=['accuracy'])"
   ]
  },
  {
   "cell_type": "code",
   "execution_count": 22,
   "metadata": {},
   "outputs": [
    {
     "name": "stdout",
     "output_type": "stream",
     "text": [
      "Epoch 1/10\n",
      "469/469 [==============================] - 19s 39ms/step - loss: 0.2857 - accuracy: 0.9172\n",
      "Epoch 2/10\n",
      "469/469 [==============================] - 17s 37ms/step - loss: 0.0821 - accuracy: 0.9766\n",
      "Epoch 3/10\n",
      "469/469 [==============================] - 17s 37ms/step - loss: 0.0604 - accuracy: 0.9823\n",
      "Epoch 4/10\n",
      "469/469 [==============================] - 17s 37ms/step - loss: 0.0496 - accuracy: 0.9847\n",
      "Epoch 5/10\n",
      "469/469 [==============================] - 18s 37ms/step - loss: 0.0397 - accuracy: 0.9880\n",
      "Epoch 6/10\n",
      "469/469 [==============================] - 17s 36ms/step - loss: 0.0350 - accuracy: 0.9893\n",
      "Epoch 7/10\n",
      "469/469 [==============================] - 18s 37ms/step - loss: 0.0299 - accuracy: 0.9909\n",
      "Epoch 8/10\n",
      "469/469 [==============================] - 17s 37ms/step - loss: 0.0271 - accuracy: 0.9914\n",
      "Epoch 9/10\n",
      "469/469 [==============================] - 18s 38ms/step - loss: 0.0217 - accuracy: 0.9937\n",
      "Epoch 10/10\n",
      "469/469 [==============================] - 18s 38ms/step - loss: 0.0188 - accuracy: 0.9943\n"
     ]
    },
    {
     "data": {
      "text/plain": [
       "<keras.callbacks.History at 0x2af66189b80>"
      ]
     },
     "execution_count": 22,
     "metadata": {},
     "output_type": "execute_result"
    }
   ],
   "source": [
    "model.fit(x_train,y_train,batch_size=128,epochs=10)"
   ]
  },
  {
   "cell_type": "code",
   "execution_count": 19,
   "metadata": {},
   "outputs": [],
   "source": [
    "model = Sequential()\n",
    "model.add(Conv2D(filters=32,kernel_size=(4,4),input_shape=(28,28,1),activation='relu'))\n",
    "model.add(MaxPool2D(pool_size=(2,2)))\n",
    "model.add(Flatten())\n",
    "model.add(Dense(64,activation='relu'))\n",
    "model.add(Dense(32,activation='relu'))\n",
    "model.add(Dense(10,activation='softmax'))\n",
    "model.compile(loss='binary_crossentropy',optimizer='adam',metrics=['accuracy'])"
   ]
  },
  {
   "cell_type": "code",
   "execution_count": 20,
   "metadata": {},
   "outputs": [
    {
     "name": "stdout",
     "output_type": "stream",
     "text": [
      "Epoch 1/10\n",
      "469/469 [==============================] - 21s 44ms/step - loss: 0.0809 - accuracy: 0.8743 - val_loss: 0.0259 - val_accuracy: 0.9675\n",
      "Epoch 2/10\n",
      "469/469 [==============================] - 19s 41ms/step - loss: 0.0219 - accuracy: 0.9713 - val_loss: 0.0157 - val_accuracy: 0.9784\n",
      "Epoch 3/10\n",
      "469/469 [==============================] - 19s 41ms/step - loss: 0.0151 - accuracy: 0.9800 - val_loss: 0.0129 - val_accuracy: 0.9819\n",
      "Epoch 4/10\n",
      "469/469 [==============================] - 19s 42ms/step - loss: 0.0119 - accuracy: 0.9842 - val_loss: 0.0111 - val_accuracy: 0.9847\n",
      "Epoch 5/10\n",
      "469/469 [==============================] - 19s 41ms/step - loss: 0.0097 - accuracy: 0.9874 - val_loss: 0.0104 - val_accuracy: 0.9856\n",
      "Epoch 6/10\n",
      "469/469 [==============================] - 19s 41ms/step - loss: 0.0083 - accuracy: 0.9892 - val_loss: 0.0091 - val_accuracy: 0.9860\n",
      "Epoch 7/10\n",
      "469/469 [==============================] - 19s 41ms/step - loss: 0.0073 - accuracy: 0.9904 - val_loss: 0.0101 - val_accuracy: 0.9851\n",
      "Epoch 8/10\n",
      "469/469 [==============================] - 19s 42ms/step - loss: 0.0064 - accuracy: 0.9917 - val_loss: 0.0100 - val_accuracy: 0.9865\n",
      "Epoch 9/10\n",
      "469/469 [==============================] - 19s 41ms/step - loss: 0.0054 - accuracy: 0.9935 - val_loss: 0.0084 - val_accuracy: 0.9875\n",
      "Epoch 10/10\n",
      "469/469 [==============================] - 19s 41ms/step - loss: 0.0047 - accuracy: 0.9942 - val_loss: 0.0091 - val_accuracy: 0.9872\n"
     ]
    }
   ],
   "source": [
    "history=model.fit(x_train,y_train,batch_size=128,epochs=10,validation_data=(x_test, y_test))"
   ]
  },
  {
   "cell_type": "code",
   "execution_count": 23,
   "metadata": {},
   "outputs": [],
   "source": [
    "metrics=pd.DataFrame(history.history)"
   ]
  },
  {
   "cell_type": "code",
   "execution_count": 24,
   "metadata": {},
   "outputs": [
    {
     "data": {
      "text/plain": [
       "<matplotlib.axes._subplots.AxesSubplot at 0x12f22b9bcd0>"
      ]
     },
     "execution_count": 24,
     "metadata": {},
     "output_type": "execute_result"
    },
    {
     "data": {
      "image/png": "[encoded data removed]",
      "text/plain": [
       "<Figure size 432x288 with 1 Axes>"
      ]
     },
     "metadata": {
      "needs_background": "light"
     },
     "output_type": "display_data"
    }
   ],
   "source": [
    "metrics[['loss','val_loss']].plot()"
   ]
  },
  {
   "cell_type": "code",
   "execution_count": 50,
   "metadata": {},
   "outputs": [],
   "source": [
    "model = Sequential()\n",
    "model.add(Conv2D(filters=32,kernel_size=(4,4),input_shape=(28,28,1),activation='relu'))\n",
    "model.add(MaxPool2D(pool_size=(2,2)))\n",
    "model.add(Flatten())\n",
    "model.add(Dense(64,activation='relu'))\n",
    "model.add(Dense(32,activation='relu'))\n",
    "model.add(Dense(19,activation='relu'))\n",
    "model.add(Dense(15,activation='relu'))\n",
    "model.add(Dense(10,activation='softmax'))\n",
    "model.compile(loss='binary_crossentropy',optimizer='adam',metrics=['accuracy'])"
   ]
  },
  {
   "cell_type": "code",
   "execution_count": 51,
   "metadata": {},
   "outputs": [
    {
     "name": "stdout",
     "output_type": "stream",
     "text": [
      "Epoch 1/10\n",
      "469/469 [==============================] - 20s 41ms/step - loss: 0.3447 - accuracy: 0.1049\n",
      "Epoch 2/10\n",
      "469/469 [==============================] - 18s 39ms/step - loss: 0.3039 - accuracy: 0.2335\n",
      "Epoch 3/10\n",
      "469/469 [==============================] - 18s 39ms/step - loss: 0.1457 - accuracy: 0.7317\n",
      "Epoch 4/10\n",
      "469/469 [==============================] - 18s 39ms/step - loss: 0.0876 - accuracy: 0.8500\n",
      "Epoch 5/10\n",
      "469/469 [==============================] - 19s 40ms/step - loss: 0.0660 - accuracy: 0.8903\n",
      "Epoch 6/10\n",
      "469/469 [==============================] - 18s 39ms/step - loss: 0.0546 - accuracy: 0.9091\n",
      "Epoch 7/10\n",
      "469/469 [==============================] - 19s 40ms/step - loss: 0.0473 - accuracy: 0.9220\n",
      "Epoch 8/10\n",
      "469/469 [==============================] - 19s 40ms/step - loss: 0.0423 - accuracy: 0.9305\n",
      "Epoch 9/10\n",
      "469/469 [==============================] - 19s 41ms/step - loss: 0.0385 - accuracy: 0.9372\n",
      "Epoch 10/10\n",
      "469/469 [==============================] - 19s 41ms/step - loss: 0.0357 - accuracy: 0.9420\n"
     ]
    },
    {
     "data": {
      "text/plain": [
       "<keras.callbacks.History at 0x226a2e1e970>"
      ]
     },
     "execution_count": 51,
     "metadata": {},
     "output_type": "execute_result"
    }
   ],
   "source": [
    "model.fit(x_train,y_train,batch_size=128,epochs=10,validation_data=(x_test, y_test))"
   ]
  },
  {
   "cell_type": "code",
   "execution_count": 52,
   "metadata": {},
   "outputs": [],
   "source": [
    "model = Sequential()\n",
    "model.add(Conv2D(filters=32,kernel_size=(4,4),input_shape=(28,28,1),activation='relu'))\n",
    "model.add(MaxPool2D(pool_size=(2,2)))\n",
    "model.add(Flatten())\n",
    "model.add(Dense(19,activation='relu'))\n",
    "model.add(Dense(32,activation='relu'))\n",
    "model.add(Dense(64,activation='relu'))\n",
    "model.add(Dense(32,activation='relu'))\n",
    "model.add(Dense(19,activation='relu'))\n",
    "model.add(Dense(15,activation='relu'))\n",
    "model.add(Dense(10,activation='softmax'))\n",
    "model.compile(loss='binary_crossentropy',optimizer='adam',metrics=['accuracy'])"
   ]
  },
  {
   "cell_type": "code",
   "execution_count": 54,
   "metadata": {},
   "outputs": [
    {
     "name": "stdout",
     "output_type": "stream",
     "text": [
      "Epoch 1/10\n",
      "469/469 [==============================] - 18s 39ms/step - loss: 0.3252 - accuracy: 0.1074\n",
      "Epoch 2/10\n",
      "469/469 [==============================] - 18s 38ms/step - loss: 0.2646 - accuracy: 0.3213\n",
      "Epoch 3/10\n",
      "469/469 [==============================] - 18s 38ms/step - loss: 0.1311 - accuracy: 0.7502\n",
      "Epoch 4/10\n",
      "469/469 [==============================] - 18s 38ms/step - loss: 0.0810 - accuracy: 0.8610\n",
      "Epoch 5/10\n",
      "469/469 [==============================] - 18s 38ms/step - loss: 0.0653 - accuracy: 0.8892\n",
      "Epoch 6/10\n",
      "469/469 [==============================] - 18s 38ms/step - loss: 0.0562 - accuracy: 0.9038\n",
      "Epoch 7/10\n",
      "469/469 [==============================] - 18s 38ms/step - loss: 0.0504 - accuracy: 0.9135\n",
      "Epoch 8/10\n",
      "469/469 [==============================] - 18s 38ms/step - loss: 0.0447 - accuracy: 0.9238\n",
      "Epoch 9/10\n",
      "469/469 [==============================] - 18s 38ms/step - loss: 0.0402 - accuracy: 0.9323\n",
      "Epoch 10/10\n",
      "469/469 [==============================] - 18s 38ms/step - loss: 0.0370 - accuracy: 0.9376\n"
     ]
    },
    {
     "data": {
      "text/plain": [
       "<keras.callbacks.History at 0x226b2166d60>"
      ]
     },
     "execution_count": 54,
     "metadata": {},
     "output_type": "execute_result"
    }
   ],
   "source": [
    "model.fit(x_train,y_train,batch_size=128,epochs=10)"
   ]
  },
  {
   "cell_type": "code",
   "execution_count": 55,
   "metadata": {},
   "outputs": [],
   "source": [
    "model = Sequential()\n",
    "model.add(Conv2D(filters=32,kernel_size=(4,4),input_shape=(28,28,1),activation='relu'))\n",
    "model.add(MaxPool2D(pool_size=(2,2)))\n",
    "model.add(Flatten())\n",
    "model.add(Dense(64,activation='relu'))\n",
    "model.add(Dense(128,activation='relu'))\n",
    "model.add(Dense(64,activation='relu'))\n",
    "model.add(Dense(32,activation='relu'))\n",
    "model.add(Dense(19,activation='relu'))\n",
    "model.add(Dense(15,activation='relu'))\n",
    "model.add(Dense(10,activation='softmax'))\n",
    "model.compile(loss='binary_crossentropy',optimizer='adam',metrics=['accuracy'])"
   ]
  },
  {
   "cell_type": "code",
   "execution_count": 56,
   "metadata": {},
   "outputs": [
    {
     "name": "stdout",
     "output_type": "stream",
     "text": [
      "Epoch 1/10\n",
      "469/469 [==============================] - 21s 41ms/step - loss: 0.3717 - accuracy: 0.1007\n",
      "Epoch 2/10\n",
      "469/469 [==============================] - 19s 40ms/step - loss: 0.2796 - accuracy: 0.2780\n",
      "Epoch 3/10\n",
      "469/469 [==============================] - 19s 40ms/step - loss: 0.1307 - accuracy: 0.7278\n",
      "Epoch 4/10\n",
      "469/469 [==============================] - 19s 40ms/step - loss: 0.0746 - accuracy: 0.8719\n",
      "Epoch 5/10\n",
      "469/469 [==============================] - 19s 40ms/step - loss: 0.0506 - accuracy: 0.9172\n",
      "Epoch 6/10\n",
      "469/469 [==============================] - 19s 40ms/step - loss: 0.0381 - accuracy: 0.9378\n",
      "Epoch 7/10\n",
      "469/469 [==============================] - 18s 39ms/step - loss: 0.0317 - accuracy: 0.9482\n",
      "Epoch 8/10\n",
      "469/469 [==============================] - 18s 39ms/step - loss: 0.0272 - accuracy: 0.9560\n",
      "Epoch 9/10\n",
      "469/469 [==============================] - 19s 40ms/step - loss: 0.0237 - accuracy: 0.9609\n",
      "Epoch 10/10\n",
      "469/469 [==============================] - 19s 40ms/step - loss: 0.0212 - accuracy: 0.9652\n"
     ]
    },
    {
     "data": {
      "text/plain": [
       "<keras.callbacks.History at 0x226b317bdc0>"
      ]
     },
     "execution_count": 56,
     "metadata": {},
     "output_type": "execute_result"
    }
   ],
   "source": [
    "model.fit(x_train,y_train,batch_size=128,epochs=10)"
   ]
  },
  {
   "cell_type": "code",
   "execution_count": 26,
   "metadata": {},
   "outputs": [],
   "source": [
    "model = Sequential()\n",
    "model.add(Conv2D(filters=32,kernel_size=(4,4),input_shape=(28,28,1),activation='relu'))\n",
    "model.add(MaxPool2D(pool_size=(2,2)))\n",
    "model.add(Flatten())\n",
    "model.add(Dense(64,activation='relu'))\n",
    "model.add(Dense(128,activation='relu'))\n",
    "model.add(Dense(256,activation='relu'))\n",
    "model.add(Dense(128,activation='relu'))\n",
    "model.add(Dense(64,activation='relu'))\n",
    "model.add(Dense(32,activation='relu'))\n",
    "model.add(Dense(19,activation='relu'))\n",
    "model.add(Dense(15,activation='relu'))\n",
    "model.add(Dense(10,activation='softmax'))\n",
    "model.compile(loss='binary_crossentropy',optimizer='adam',metrics=['accuracy'])"
   ]
  },
  {
   "cell_type": "code",
   "execution_count": 27,
   "metadata": {},
   "outputs": [
    {
     "name": "stdout",
     "output_type": "stream",
     "text": [
      "Epoch 1/10\n",
      "469/469 [==============================] - 23s 45ms/step - loss: 0.1443 - accuracy: 0.7505 - val_loss: 0.0254 - val_accuracy: 0.9618\n",
      "Epoch 2/10\n",
      "469/469 [==============================] - 20s 43ms/step - loss: 0.0217 - accuracy: 0.9676 - val_loss: 0.0164 - val_accuracy: 0.9751\n",
      "Epoch 3/10\n",
      "469/469 [==============================] - 20s 44ms/step - loss: 0.0135 - accuracy: 0.9802 - val_loss: 0.0129 - val_accuracy: 0.9783\n",
      "Epoch 4/10\n",
      "469/469 [==============================] - 20s 44ms/step - loss: 0.0102 - accuracy: 0.9842 - val_loss: 0.0115 - val_accuracy: 0.9815\n",
      "Epoch 5/10\n",
      "469/469 [==============================] - 21s 44ms/step - loss: 0.0078 - accuracy: 0.9883 - val_loss: 0.0096 - val_accuracy: 0.9847\n",
      "Epoch 6/10\n",
      "469/469 [==============================] - 20s 43ms/step - loss: 0.0062 - accuracy: 0.9908 - val_loss: 0.0099 - val_accuracy: 0.9846\n",
      "Epoch 7/10\n",
      "469/469 [==============================] - 20s 43ms/step - loss: 0.0053 - accuracy: 0.9917 - val_loss: 0.0093 - val_accuracy: 0.9859\n",
      "Epoch 8/10\n",
      "469/469 [==============================] - 20s 43ms/step - loss: 0.0045 - accuracy: 0.9934 - val_loss: 0.0088 - val_accuracy: 0.9862\n",
      "Epoch 9/10\n",
      "469/469 [==============================] - 20s 43ms/step - loss: 0.0040 - accuracy: 0.9942 - val_loss: 0.0117 - val_accuracy: 0.9827\n",
      "Epoch 10/10\n",
      "469/469 [==============================] - 21s 44ms/step - loss: 0.0035 - accuracy: 0.9948 - val_loss: 0.0133 - val_accuracy: 0.9826\n"
     ]
    },
    {
     "data": {
      "text/plain": [
       "<keras.callbacks.History at 0x2af678885e0>"
      ]
     },
     "execution_count": 27,
     "metadata": {},
     "output_type": "execute_result"
    }
   ],
   "source": [
    "model.fit(x_train,y_train,batch_size=128,epochs=10,validation_data=(x_test, y_test))"
   ]
  },
  {
   "cell_type": "code",
   "execution_count": 29,
   "metadata": {},
   "outputs": [],
   "source": [
    "model = Sequential()\n",
    "model.add(Conv2D(filters=32,kernel_size=(4,4),input_shape=(28,28,1),activation='relu'))\n",
    "model.add(MaxPool2D(pool_size=(2,2)))\n",
    "model.add(Flatten())\n",
    "model.add(Dense(64,activation='relu'))\n",
    "model.add(Dense(128,activation='relu'))\n",
    "model.add(Dense(256,activation='relu'))\n",
    "model.add(Dense(512,activation='relu'))\n",
    "model.add(Dense(256,activation='relu'))\n",
    "model.add(Dense(128,activation='relu'))\n",
    "model.add(Dense(64,activation='relu'))\n",
    "model.add(Dense(32,activation='relu'))\n",
    "model.add(Dense(19,activation='relu'))\n",
    "model.add(Dense(15,activation='relu'))\n",
    "model.add(Dense(10,activation='softmax'))\n",
    "model.compile(loss='binary_crossentropy',optimizer='adam',metrics=['accuracy'])"
   ]
  },
  {
   "cell_type": "code",
   "execution_count": 31,
   "metadata": {},
   "outputs": [
    {
     "name": "stdout",
     "output_type": "stream",
     "text": [
      "Epoch 1/8\n",
      "235/235 [==============================] - 21s 88ms/step - loss: 0.0018 - accuracy: 0.9973 - val_loss: 0.0080 - val_accuracy: 0.9892\n",
      "Epoch 2/8\n",
      "235/235 [==============================] - 20s 85ms/step - loss: 8.3096e-04 - accuracy: 0.9989 - val_loss: 0.0094 - val_accuracy: 0.9888\n",
      "Epoch 3/8\n",
      "235/235 [==============================] - 20s 85ms/step - loss: 9.9175e-04 - accuracy: 0.9987 - val_loss: 0.0105 - val_accuracy: 0.9885\n",
      "Epoch 4/8\n",
      "235/235 [==============================] - 21s 88ms/step - loss: 7.6159e-04 - accuracy: 0.9988 - val_loss: 0.0145 - val_accuracy: 0.9860\n",
      "Epoch 5/8\n",
      "235/235 [==============================] - 20s 87ms/step - loss: 0.0013 - accuracy: 0.9982 - val_loss: 0.0127 - val_accuracy: 0.9860\n",
      "Epoch 6/8\n",
      "235/235 [==============================] - 20s 86ms/step - loss: 0.0012 - accuracy: 0.9982 - val_loss: 0.0125 - val_accuracy: 0.9861\n",
      "Epoch 7/8\n",
      "235/235 [==============================] - 20s 86ms/step - loss: 0.0015 - accuracy: 0.9978 - val_loss: 0.0134 - val_accuracy: 0.9872\n",
      "Epoch 8/8\n",
      "235/235 [==============================] - 20s 85ms/step - loss: 0.0013 - accuracy: 0.9981 - val_loss: 0.0122 - val_accuracy: 0.9850\n"
     ]
    }
   ],
   "source": [
    "history=model.fit(x_train,y_train,batch_size=256,epochs=8,validation_data=(x_test, y_test))"
   ]
  },
  {
   "cell_type": "code",
   "execution_count": 32,
   "metadata": {},
   "outputs": [],
   "source": [
    "metrics=pd.DataFrame(history.history)"
   ]
  },
  {
   "cell_type": "code",
   "execution_count": 33,
   "metadata": {},
   "outputs": [
    {
     "data": {
      "text/plain": [
       "<matplotlib.axes._subplots.AxesSubplot at 0x2af684563d0>"
      ]
     },
     "execution_count": 33,
     "metadata": {},
     "output_type": "execute_result"
    },
    {
     "data": {
      "image/png": "[encoded data removed]",
      "text/plain": [
       "<Figure size 432x288 with 1 Axes>"
      ]
     },
     "metadata": {
      "needs_background": "light"
     },
     "output_type": "display_data"
    }
   ],
   "source": [
    "metrics[['loss','val_loss']].plot()"
   ]
  },
  {
   "cell_type": "code",
   "execution_count": 35,
   "metadata": {},
   "outputs": [
    {
     "name": "stdout",
     "output_type": "stream",
     "text": [
      "dict_keys(['loss', 'accuracy', 'val_loss', 'val_accuracy'])\n"
     ]
    },
    {
     "data": {
      "image/png": "[encoded data removed]",
      "text/plain": [
       "<Figure size 432x288 with 1 Axes>"
      ]
     },
     "metadata": {
      "needs_background": "light"
     },
     "output_type": "display_data"
    },
    {
     "data": {
      "image/png": "[encoded data removed]",
      "text/plain": [
       "<Figure size 432x288 with 1 Axes>"
      ]
     },
     "metadata": {
      "needs_background": "light"
     },
     "output_type": "display_data"
    }
   ],
   "source": [
    "print(history.history.keys())\n",
    "\n",
    "plt.plot(history.history['accuracy'])\n",
    "plt.plot(history.history['val_accuracy'])\n",
    "plt.title('model accuracy')\n",
    "plt.ylabel('accuracy')\n",
    "plt.xlabel('epoch')\n",
    "plt.legend(['train', 'test'], loc='upper left')\n",
    "plt.show()\n",
    "\n",
    "plt.plot(history.history['loss'])\n",
    "plt.plot(history.history['val_loss'])\n",
    "plt.title('model loss')\n",
    "plt.ylabel('loss')\n",
    "plt.xlabel('epoch')\n",
    "plt.legend(['train', 'test'], loc='upper left')\n",
    "plt.show()"
   ]
  },
  {
   "cell_type": "code",
   "execution_count": null,
   "metadata": {},
   "outputs": [],
   "source": []
  }
 ],
 "metadata": {
  "kernelspec": {
   "display_name": "Python 3",
   "language": "python",
   "name": "python3"
  },
  "language_info": {
   "codemirror_mode": {
    "name": "ipython",
    "version": 3
   },
   "file_extension": ".py",
   "mimetype": "text/x-python",
   "name": "python",
   "nbconvert_exporter": "python",
   "pygments_lexer": "ipython3",
   "version": "3.8.3"
  }
 },
 "nbformat": 4,
 "nbformat_minor": 4
}
